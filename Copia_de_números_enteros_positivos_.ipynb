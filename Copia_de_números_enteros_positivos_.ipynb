{
  "nbformat": 4,
  "nbformat_minor": 0,
  "metadata": {
    "colab": {
      "name": "Copia de números enteros positivos .ipynb",
      "provenance": []
    },
    "kernelspec": {
      "name": "python3",
      "display_name": "Python 3"
    },
    "language_info": {
      "name": "python"
    }
  },
  "cells": [
    {
      "cell_type": "code",
      "execution_count": null,
      "metadata": {
        "colab": {
          "base_uri": "https://localhost:8080/"
        },
        "id": "d9mA9JZ4uAaT",
        "outputId": "bcc1c095-f22a-4cbf-a5ed-ba233e015190"
      },
      "outputs": [
        {
          "output_type": "stream",
          "name": "stdout",
          "text": [
            "Cuantos numeros deseas ingresar?: 10\n",
            "Ingresa un numero entero positivo: 5\n",
            "Ingresa un numero entero positivo: 6\n",
            "Ingresa un numero entero positivo: 1\n",
            "Ingresa un numero entero positivo: 5\n",
            "Ingresa un numero entero positivo: 2\n",
            "Ingresa un numero entero positivo: 3\n",
            "Ingresa un numero entero positivo: 5\n",
            "Ingresa un numero entero positivo: 4\n",
            "Ingresa un numero entero positivo: 7\n",
            "Ingresa un numero entero positivo: 5\n",
            "[0, 0, 0, 1, 2, 3, 4, 5, 6, 7]\n",
            "[1, 2, 3, 4, 5, 6, 7]\n"
          ]
        }
      ],
      "source": [
        "Numero=[]\n",
        "Arreglo=[]\n",
        "rango=int(input(\"Cuantos numeros deseas ingresar?: \"))\n",
        "for i in range(0,rango):\n",
        "  Numero.append(int(input(\"Ingresa un numero entero positivo: \")))\n",
        "for j in range(1,rango):\n",
        "  for i in range(1,rango):\n",
        "    for d in range(0,rango-i):\n",
        "      if(Numero[d]>Numero[d+1]):\n",
        "        var=Numero[d]\n",
        "        Numero[d]=Numero[d+1]\n",
        "        Numero[d+1]=var\n",
        "  for i in range(1,rango):\n",
        "    for d in range(0,rango-i):\n",
        "      if(Numero[d]==Numero[d+1]):\n",
        "        Numero[d+1]=0\n",
        "for i in range(0,rango):\n",
        "  if(Numero[i]>0):\n",
        "    Arreglo.append(Numero[i])\n",
        "print(Arreglo)"
      ]
    }
  ]
}