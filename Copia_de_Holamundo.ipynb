{
  "nbformat": 4,
  "nbformat_minor": 0,
  "metadata": {
    "colab": {
      "name": "Copia de Holamundo.ipynb",
      "provenance": []
    },
    "kernelspec": {
      "name": "python3",
      "display_name": "Python 3"
    },
    "language_info": {
      "name": "python"
    }
  },
  "cells": [
    {
      "cell_type": "code",
      "execution_count": null,
      "metadata": {
        "colab": {
          "base_uri": "https://localhost:8080/"
        },
        "id": "kb8VmGzu9KWg",
        "outputId": "c5c69b59-dde9-48d9-f21d-f448d5463b48"
      },
      "outputs": [
        {
          "output_type": "stream",
          "name": "stdout",
          "text": [
            "['o', 'd', 'n', 'u', 'm', 'a', 'l', 'o', 'h']\n"
          ]
        }
      ],
      "source": [
        "Arreglo=['h','o','l','a','m','u','n','d','o']\n",
        "j=8\n",
        "for i in range(0,4):\n",
        "   aux=Arreglo[i]\n",
        "   Arreglo[i]=Arreglo[j]\n",
        "   Arreglo[j]=aux\n",
        "   j=j-1\n",
        "print(Arreglo)  "
      ]
    }
  ]
}