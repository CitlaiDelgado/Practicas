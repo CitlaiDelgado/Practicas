{
  "nbformat": 4,
  "nbformat_minor": 0,
  "metadata": {
    "colab": {
      "name": "Copia de tabla de multiplicar.ipynb",
      "provenance": []
    },
    "kernelspec": {
      "name": "python3",
      "display_name": "Python 3"
    },
    "language_info": {
      "name": "python"
    }
  },
  "cells": [
    {
      "cell_type": "code",
      "execution_count": null,
      "metadata": {
        "colab": {
          "base_uri": "https://localhost:8080/"
        },
        "id": "WUFZFx8J81lU",
        "outputId": "320c0849-b3b6-411c-e7f0-0b3239235fb7"
      },
      "outputs": [
        {
          "output_type": "stream",
          "name": "stdout",
          "text": [
            "elige una tabla1\n",
            "0 x 1 = 0\n",
            "1 x 1 = 1\n",
            "2 x 1 = 2\n",
            "3 x 1 = 3\n",
            "4 x 1 = 4\n",
            "5 x 1 = 5\n",
            "6 x 1 = 6\n",
            "7 x 1 = 7\n",
            "8 x 1 = 8\n",
            "9 x 1 = 9\n"
          ]
        }
      ],
      "source": [
        "\n",
        "tabla=int(input('elige una tabla'))\n",
        "for i in range(0,10):\n",
        "   result=i*tabla\n",
        "   print(i,\"x\",tabla,\"=\",result)\n",
        "   \n"
      ]
    }
  ]
}